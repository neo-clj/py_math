{
 "cells": [
  {
   "cell_type": "code",
   "execution_count": 1,
   "metadata": {},
   "outputs": [],
   "source": [
    "import numpy as np"
   ]
  },
  {
   "cell_type": "code",
   "execution_count": 2,
   "metadata": {},
   "outputs": [],
   "source": [
    "%matplotlib notebook"
   ]
  },
  {
   "cell_type": "code",
   "execution_count": 3,
   "metadata": {},
   "outputs": [],
   "source": [
    "import sympy"
   ]
  },
  {
   "cell_type": "code",
   "execution_count": 4,
   "metadata": {},
   "outputs": [],
   "source": [
    "import matplotlib.pyplot as plt"
   ]
  },
  {
   "cell_type": "code",
   "execution_count": 5,
   "metadata": {},
   "outputs": [],
   "source": [
    "from IPython.display import set_matplotlib_formats\n",
    "set_matplotlib_formats('retina')"
   ]
  },
  {
   "cell_type": "code",
   "execution_count": 7,
   "metadata": {},
   "outputs": [],
   "source": [
    "sympy.init_printing(use_unicode=True)"
   ]
  },
  {
   "cell_type": "code",
   "execution_count": 8,
   "metadata": {},
   "outputs": [],
   "source": [
    "def convert_input(string):\n",
    "    expr = sympify(string, evaluate=False)\n",
    "    sym, = expr.free_symbols\n",
    "    x = Symbol(sym.name, real=True)\n",
    "    # expr = expr.subs(sym, x)\n",
    "    #expr = expr.subs(UnevaluatedExpr(sym), x)\n",
    "    return expr, x"
   ]
  },
  {
   "cell_type": "code",
   "execution_count": 9,
   "metadata": {},
   "outputs": [],
   "source": [
    "def convert_to_frac(string):\n",
    "    expr = sympify(string, evaluate=False)\n",
    "    sym, = expr.free_symbols\n",
    "    x = Symbol(sym.name, real=True)\n",
    "    expr = expr.subs(sym, x)\n",
    "    frac = cancel(together(expr))\n",
    "    return frac, x"
   ]
  },
  {
   "cell_type": "code",
   "execution_count": 10,
   "metadata": {},
   "outputs": [],
   "source": [
    "def plot_curve(expr, x, x_min, x_max, y_min, y_max):\n",
    "    \"\"\"Plot y=expr(x) over the specified domain.\"\"\"\n",
    "    func = lambdify([x], expr)\n",
    "    xs = np.linspace(x_min, x_max, 200)\n",
    "    plt.plot(xs, func(xs), label=str(expr))\n",
    "    plt.legend(bbox_to_anchor=(0., 1.02, 1., .102), loc='lower left',\n",
    "               ncol=2, mode=\"expand\", borderaxespad=0.)\n",
    "    plt.ylim(y_min, y_max)\n",
    "    plt.xlim(x_min, x_max)\n",
    "    plt.grid(True)"
   ]
  },
  {
   "cell_type": "code",
   "execution_count": 11,
   "metadata": {},
   "outputs": [],
   "source": [
    "def plot_three(string1, string2, x_min, x_max, y_min, y_max):\n",
    "    expr0, expr1, expr2 = make_expr(string1, string2)\n",
    "    for expression in [expr0, expr1, expr2]:\n",
    "        plot_curve(expression, x, x_min, x_max, y_min, y_max)"
   ]
  },
  {
   "cell_type": "code",
   "execution_count": 12,
   "metadata": {},
   "outputs": [],
   "source": [
    "def make_expr(string1, string2):\n",
    "    \n",
    "    string0 = string1 + ' - (' + string2 + ')'\n",
    "    \n",
    "    expr0, x = convert_input(string0)\n",
    "    expr1, x = convert_input(string1)\n",
    "    expr2, x = convert_input(string2)\n",
    "    \n",
    "    return [expr0, expr1, expr2]"
   ]
  },
  {
   "cell_type": "code",
   "execution_count": 13,
   "metadata": {},
   "outputs": [],
   "source": [
    "def compare_solutions(string1, string2):\n",
    "    expr0, expr1, expr2 = make_expr(string1, string2)\n",
    "    return solve(simplify(expr0)) == solve(Eq(expr1, expr2))"
   ]
  },
  {
   "cell_type": "code",
   "execution_count": 14,
   "metadata": {},
   "outputs": [],
   "source": [
    "def slv(string1, string2):\n",
    "    expr0, expr1, expr2 = make_expr(string1, string2)\n",
    "    return solve(Eq(expr1, expr2))"
   ]
  }
 ],
 "metadata": {
  "kernelspec": {
   "display_name": "Python 3",
   "language": "python",
   "name": "python3"
  },
  "language_info": {
   "codemirror_mode": {
    "name": "ipython",
    "version": 3
   },
   "file_extension": ".py",
   "mimetype": "text/x-python",
   "name": "python",
   "nbconvert_exporter": "python",
   "pygments_lexer": "ipython3",
   "version": "3.7.9"
  }
 },
 "nbformat": 4,
 "nbformat_minor": 2
}

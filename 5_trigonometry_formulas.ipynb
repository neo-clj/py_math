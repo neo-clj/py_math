{
 "cells": [
  {
   "attachments": {},
   "cell_type": "markdown",
   "metadata": {},
   "source": [
    "# Reduction Formulas"
   ]
  },
  {
   "attachments": {},
   "cell_type": "markdown",
   "metadata": {},
   "source": [
    "$$\n",
    "\\begin{align*}\n",
    "\\sin (t + \\pi) & = - \\sin t \\\\\\\\\n",
    "\\cos (t + \\pi) & = - \\cos t \\\\\\\\\n",
    "\\tan (t + \\pi) & = \\tan t\n",
    "\\end{align*}\n",
    "$$"
   ]
  },
  {
   "attachments": {},
   "cell_type": "markdown",
   "metadata": {},
   "source": [
    "$$\n",
    "\\begin{align*}\n",
    "\\sin (t + \\frac{\\pi}{2}) & = \\cos t \\\\\\\\\n",
    "\\cos (t + \\frac{\\pi}{2}) & = - \\sin t \\\\\\\\\n",
    "\\tan (t + \\frac{\\pi}{2}) & = - \\cot t \\\\\n",
    "\\end{align*}\n",
    "$$"
   ]
  },
  {
   "attachments": {},
   "cell_type": "markdown",
   "metadata": {},
   "source": [
    "$$\n",
    "\\begin{align*}\n",
    "\\sin (t + \\frac{3\\pi}{2}) & = \\sin (t + \\pi + \\frac{\\pi}{2}) \\\\\\\\\n",
    "& = \\cos (t + \\pi) \\\\\\\\\n",
    "& = - \\cos (t)\n",
    "\\end{align*}\n",
    "$$"
   ]
  },
  {
   "attachments": {},
   "cell_type": "markdown",
   "metadata": {},
   "source": [
    "$$\n",
    "\\begin{align*}\n",
    "\\cos (t + \\frac{3\\pi}{2}) & = \\cos (t + \\pi + \\frac{\\pi}{2}) \\\\\\\\\n",
    "& = - \\sin (t + \\pi) \\\\\\\\\n",
    "& = - (- \\sin t) \\\\\\\\\n",
    "& = \\sin t\n",
    "\\end{align*}\n",
    "$$"
   ]
  },
  {
   "cell_type": "markdown",
   "metadata": {},
   "source": []
  },
  {
   "cell_type": "markdown",
   "metadata": {},
   "source": []
  },
  {
   "attachments": {},
   "cell_type": "markdown",
   "metadata": {},
   "source": [
    "$$\n",
    "\\begin{align*}\n",
    "\\sin (t + 2n \\pi) & = \\sin t \\; \\; \\; (for \\; any \\; integer \\; n) \\\\\\\\\n",
    "\\cos (t + 2n \\pi) & = \\cos t \\; \\; \\; (for \\; any \\; integer \\; n)\n",
    "\\end{align*}\n",
    "$$"
   ]
  },
  {
   "cell_type": "code",
   "execution_count": null,
   "metadata": {},
   "outputs": [],
   "source": []
  }
 ],
 "metadata": {
  "kernelspec": {
   "display_name": "Python 3",
   "language": "python",
   "name": "python3"
  },
  "language_info": {
   "name": "python",
   "version": "3.10.6 (main, Nov 14 2022, 16:10:14) [GCC 11.3.0]"
  },
  "orig_nbformat": 4,
  "vscode": {
   "interpreter": {
    "hash": "31f2aee4e71d21fbe5cf8b01ff0e069b9275f58929596ceb00d14d90e3e16cd6"
   }
  }
 },
 "nbformat": 4,
 "nbformat_minor": 2
}
